{
 "cells": [
  {
   "cell_type": "markdown",
   "id": "0571d615",
   "metadata": {},
   "source": [
    "# Bot telegram tutorial installation\n",
    "<p> aula de interação humano computador sobre bot's</p>"
   ]
  },
  {
   "cell_type": "code",
   "execution_count": null,
   "id": "316a2f36",
   "metadata": {},
   "outputs": [],
   "source": [
    "!pip install pandas pandasai"
   ]
  },
  {
   "cell_type": "code",
   "execution_count": null,
   "id": "5a2b2aad",
   "metadata": {},
   "outputs": [],
   "source": [
    "import pandas as pd\n",
    "from pandasai import PandasAI"
   ]
  },
  {
   "cell_type": "code",
   "execution_count": null,
   "id": "b1f13674",
   "metadata": {},
   "outputs": [],
   "source": [
    "from pandasai.llm.starcoder import Starcoder"
   ]
  },
  {
   "cell_type": "code",
   "execution_count": null,
   "id": "d132567a",
   "metadata": {},
   "outputs": [],
   "source": [
    "llm = Starcoder(api_token=\"\")"
   ]
  },
  {
   "cell_type": "code",
   "execution_count": null,
   "id": "4986b163",
   "metadata": {},
   "outputs": [],
   "source": [
    "df = pd.read_csv(\"https://raw.githubusercontent.com/inteligentni/Class-05-Feature-engineering/master/The%20Beatles%20songs%2"
   ]
  },
  {
   "cell_type": "code",
   "execution_count": null,
   "id": "eb0794c8",
   "metadata": {},
   "outputs": [],
   "source": [
    "pandas_ai = PandasAI(llm, conversational=False)"
   ]
  },
  {
   "cell_type": "code",
   "execution_count": null,
   "id": "3b8fb5eb",
   "metadata": {},
   "outputs": [],
   "source": [
    "res = pandas_ai.run(df, prompt='what songs belong to abbey road album')"
   ]
  },
  {
   "cell_type": "code",
   "execution_count": null,
   "id": "00f1a38c",
   "metadata": {},
   "outputs": [],
   "source": [
    "res['Title'].to_string(index=False)"
   ]
  }
 ],
 "metadata": {
  "kernelspec": {
   "display_name": "Python 3 (ipykernel)",
   "language": "python",
   "name": "python3"
  },
  "language_info": {
   "codemirror_mode": {
    "name": "ipython",
    "version": 3
   },
   "file_extension": ".py",
   "mimetype": "text/x-python",
   "name": "python",
   "nbconvert_exporter": "python",
   "pygments_lexer": "ipython3",
   "version": "3.11.4"
  }
 },
 "nbformat": 4,
 "nbformat_minor": 5
}
