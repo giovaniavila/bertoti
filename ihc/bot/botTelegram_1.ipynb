{
 "cells": [
  {
   "cell_type": "markdown",
   "id": "8d8653c7",
   "metadata": {},
   "source": [
    "# Bot telegram tutorial installation\n",
    "<p> aula de interação humano computador sobre bot's</p>"
   ]
  },
  {
   "cell_type": "code",
   "execution_count": null,
   "id": "33bac704",
   "metadata": {},
   "outputs": [],
   "source": [
    "! pip install pytelegrambotapi"
   ]
  },
  {
   "cell_type": "code",
   "execution_count": null,
   "id": "6f8672e2",
   "metadata": {},
   "outputs": [],
   "source": [
    "import telebot"
   ]
  },
  {
   "cell_type": "code",
   "execution_count": null,
   "id": "2043c3f7",
   "metadata": {},
   "outputs": [],
   "source": [
    "API_TOKEN = ''\n",
    "bot = telebot.TeleBot(API_TOKEN)"
   ]
  },
  {
   "cell_type": "code",
   "execution_count": null,
   "id": "45ee34d5",
   "metadata": {},
   "outputs": [],
   "source": [
    "@bot.message_handler(func=lambda message: True)\n",
    "def reply_hi(message):\n",
    "  bot.reply_to(message, 'hi')"
   ]
  },
  {
   "cell_type": "code",
   "execution_count": null,
   "id": "688ca125",
   "metadata": {},
   "outputs": [],
   "source": [
    "bot.polling()"
   ]
  }
 ],
 "metadata": {
  "kernelspec": {
   "display_name": "Python 3 (ipykernel)",
   "language": "python",
   "name": "python3"
  },
  "language_info": {
   "codemirror_mode": {
    "name": "ipython",
    "version": 3
   },
   "file_extension": ".py",
   "mimetype": "text/x-python",
   "name": "python",
   "nbconvert_exporter": "python",
   "pygments_lexer": "ipython3",
   "version": "3.11.4"
  }
 },
 "nbformat": 4,
 "nbformat_minor": 5
}
