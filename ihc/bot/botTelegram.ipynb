{
 "cells": [
  {
   "cell_type": "markdown",
   "id": "8afc7663",
   "metadata": {},
   "source": [
    "# Bot telegram tutorial installation\n",
    "<p> aula de interação humano computador sobre bot's</p>"
   ]
  },
  {
   "cell_type": "code",
   "execution_count": 1,
   "id": "06dc728d",
   "metadata": {},
   "outputs": [
    {
     "name": "stdout",
     "output_type": "stream",
     "text": [
      "Collecting pytelegrambotapi\n",
      "  Using cached pyTelegramBotAPI-4.13.0.tar.gz (232 kB)\n",
      "  Preparing metadata (setup.py): started\n",
      "  Preparing metadata (setup.py): finished with status 'done'\n",
      "Requirement already satisfied: requests in c:\\users\\fatec\\anaconda3\\lib\\site-packages (from pytelegrambotapi) (2.31.0)\n",
      "Requirement already satisfied: charset-normalizer<4,>=2 in c:\\users\\fatec\\anaconda3\\lib\\site-packages (from requests->pytelegrambotapi) (2.0.4)\n",
      "Requirement already satisfied: idna<4,>=2.5 in c:\\users\\fatec\\anaconda3\\lib\\site-packages (from requests->pytelegrambotapi) (3.4)\n",
      "Requirement already satisfied: urllib3<3,>=1.21.1 in c:\\users\\fatec\\anaconda3\\lib\\site-packages (from requests->pytelegrambotapi) (1.26.16)\n",
      "Requirement already satisfied: certifi>=2017.4.17 in c:\\users\\fatec\\anaconda3\\lib\\site-packages (from requests->pytelegrambotapi) (2023.7.22)\n",
      "Building wheels for collected packages: pytelegrambotapi\n",
      "  Building wheel for pytelegrambotapi (setup.py): started\n",
      "  Building wheel for pytelegrambotapi (setup.py): finished with status 'done'\n",
      "  Created wheel for pytelegrambotapi: filename=pyTelegramBotAPI-4.13.0-py3-none-any.whl size=214627 sha256=1a04ad3c228c263ac019f7a15caf30999f390d72c14862df075b9fc8670ea404\n",
      "  Stored in directory: c:\\users\\fatec\\appdata\\local\\pip\\cache\\wheels\\cd\\b7\\77\\f583f74801e9b9d09917ac87c87dde50ef6f78226eb3a5e25a\n",
      "Successfully built pytelegrambotapi\n",
      "Installing collected packages: pytelegrambotapi\n",
      "Successfully installed pytelegrambotapi-4.13.0\n"
     ]
    }
   ],
   "source": [
    "! pip install pytelegrambotapi"
   ]
  },
  {
   "cell_type": "code",
   "execution_count": 2,
   "id": "c314696e",
   "metadata": {},
   "outputs": [],
   "source": [
    "import telebot"
   ]
  },
  {
   "cell_type": "code",
   "execution_count": 3,
   "id": "dbc53276",
   "metadata": {},
   "outputs": [],
   "source": [
    "API_TOKEN = ''\n",
    "bot = telebot.TeleBot(API_TOKEN)"
   ]
  },
  {
   "cell_type": "code",
   "execution_count": 4,
   "id": "87fa203c",
   "metadata": {},
   "outputs": [],
   "source": [
    "@bot.message_handler(func=lambda message: True)\n",
    "def reply_hi(message):\n",
    "  bot.reply_to(message, 'hi')"
   ]
  },
  {
   "cell_type": "code",
   "execution_count": 5,
   "id": "116e3be8",
   "metadata": {},
   "outputs": [
    {
     "ename": "Exception",
     "evalue": "Bot token is not defined",
     "output_type": "error",
     "traceback": [
      "\u001b[1;31m---------------------------------------------------------------------------\u001b[0m",
      "\u001b[1;31mException\u001b[0m                                 Traceback (most recent call last)",
      "Cell \u001b[1;32mIn[5], line 1\u001b[0m\n\u001b[1;32m----> 1\u001b[0m bot\u001b[38;5;241m.\u001b[39mpolling()\n",
      "File \u001b[1;32m~\\anaconda3\\Lib\\site-packages\\telebot\\__init__.py:1040\u001b[0m, in \u001b[0;36mTeleBot.polling\u001b[1;34m(self, non_stop, skip_pending, interval, timeout, long_polling_timeout, logger_level, allowed_updates, none_stop, restart_on_change, path_to_watch)\u001b[0m\n\u001b[0;32m   1037\u001b[0m \u001b[38;5;28;01mif\u001b[39;00m restart_on_change:\n\u001b[0;32m   1038\u001b[0m     \u001b[38;5;28mself\u001b[39m\u001b[38;5;241m.\u001b[39m_setup_change_detector(path_to_watch)\n\u001b[1;32m-> 1040\u001b[0m logger\u001b[38;5;241m.\u001b[39minfo(\u001b[38;5;124m'\u001b[39m\u001b[38;5;124mStarting your bot with username: [@\u001b[39m\u001b[38;5;132;01m%s\u001b[39;00m\u001b[38;5;124m]\u001b[39m\u001b[38;5;124m'\u001b[39m, \u001b[38;5;28mself\u001b[39m\u001b[38;5;241m.\u001b[39muser\u001b[38;5;241m.\u001b[39musername)\n\u001b[0;32m   1042\u001b[0m \u001b[38;5;28;01mif\u001b[39;00m \u001b[38;5;28mself\u001b[39m\u001b[38;5;241m.\u001b[39mthreaded:\n\u001b[0;32m   1043\u001b[0m     \u001b[38;5;28mself\u001b[39m\u001b[38;5;241m.\u001b[39m__threaded_polling(non_stop\u001b[38;5;241m=\u001b[39mnon_stop, interval\u001b[38;5;241m=\u001b[39minterval, timeout\u001b[38;5;241m=\u001b[39mtimeout, long_polling_timeout\u001b[38;5;241m=\u001b[39mlong_polling_timeout,\n\u001b[0;32m   1044\u001b[0m                             logger_level\u001b[38;5;241m=\u001b[39mlogger_level, allowed_updates\u001b[38;5;241m=\u001b[39mallowed_updates)\n",
      "File \u001b[1;32m~\\anaconda3\\Lib\\site-packages\\telebot\\__init__.py:273\u001b[0m, in \u001b[0;36mTeleBot.user\u001b[1;34m(self)\u001b[0m\n\u001b[0;32m    265\u001b[0m \u001b[38;5;250m\u001b[39m\u001b[38;5;124;03m\"\"\"\u001b[39;00m\n\u001b[0;32m    266\u001b[0m \u001b[38;5;124;03mThe User object representing this bot.\u001b[39;00m\n\u001b[0;32m    267\u001b[0m \u001b[38;5;124;03mEquivalent to bot.get_me() but the result is cached so only one API call is needed.\u001b[39;00m\n\u001b[1;32m   (...)\u001b[0m\n\u001b[0;32m    270\u001b[0m \u001b[38;5;124;03m:rtype: :class:`telebot.types.User`\u001b[39;00m\n\u001b[0;32m    271\u001b[0m \u001b[38;5;124;03m\"\"\"\u001b[39;00m\n\u001b[0;32m    272\u001b[0m \u001b[38;5;28;01mif\u001b[39;00m \u001b[38;5;129;01mnot\u001b[39;00m \u001b[38;5;28mhasattr\u001b[39m(\u001b[38;5;28mself\u001b[39m, \u001b[38;5;124m\"\u001b[39m\u001b[38;5;124m_user\u001b[39m\u001b[38;5;124m\"\u001b[39m):\n\u001b[1;32m--> 273\u001b[0m     \u001b[38;5;28mself\u001b[39m\u001b[38;5;241m.\u001b[39m_user \u001b[38;5;241m=\u001b[39m \u001b[38;5;28mself\u001b[39m\u001b[38;5;241m.\u001b[39mget_me()\n\u001b[0;32m    274\u001b[0m \u001b[38;5;28;01mreturn\u001b[39;00m \u001b[38;5;28mself\u001b[39m\u001b[38;5;241m.\u001b[39m_user\n",
      "File \u001b[1;32m~\\anaconda3\\Lib\\site-packages\\telebot\\__init__.py:1236\u001b[0m, in \u001b[0;36mTeleBot.get_me\u001b[1;34m(self)\u001b[0m\n\u001b[0;32m   1229\u001b[0m \u001b[38;5;28;01mdef\u001b[39;00m \u001b[38;5;21mget_me\u001b[39m(\u001b[38;5;28mself\u001b[39m) \u001b[38;5;241m-\u001b[39m\u001b[38;5;241m>\u001b[39m types\u001b[38;5;241m.\u001b[39mUser:\n\u001b[0;32m   1230\u001b[0m \u001b[38;5;250m    \u001b[39m\u001b[38;5;124;03m\"\"\"\u001b[39;00m\n\u001b[0;32m   1231\u001b[0m \u001b[38;5;124;03m    A simple method for testing your bot's authentication token. Requires no parameters.\u001b[39;00m\n\u001b[0;32m   1232\u001b[0m \u001b[38;5;124;03m    Returns basic information about the bot in form of a User object.\u001b[39;00m\n\u001b[0;32m   1233\u001b[0m \n\u001b[0;32m   1234\u001b[0m \u001b[38;5;124;03m    Telegram documentation: https://core.telegram.org/bots/api#getme\u001b[39;00m\n\u001b[0;32m   1235\u001b[0m \u001b[38;5;124;03m    \"\"\"\u001b[39;00m\n\u001b[1;32m-> 1236\u001b[0m     result \u001b[38;5;241m=\u001b[39m apihelper\u001b[38;5;241m.\u001b[39mget_me(\u001b[38;5;28mself\u001b[39m\u001b[38;5;241m.\u001b[39mtoken)\n\u001b[0;32m   1237\u001b[0m     \u001b[38;5;28;01mreturn\u001b[39;00m types\u001b[38;5;241m.\u001b[39mUser\u001b[38;5;241m.\u001b[39mde_json(result)\n",
      "File \u001b[1;32m~\\anaconda3\\Lib\\site-packages\\telebot\\apihelper.py:196\u001b[0m, in \u001b[0;36mget_me\u001b[1;34m(token)\u001b[0m\n\u001b[0;32m    194\u001b[0m \u001b[38;5;28;01mdef\u001b[39;00m \u001b[38;5;21mget_me\u001b[39m(token):\n\u001b[0;32m    195\u001b[0m     method_url \u001b[38;5;241m=\u001b[39m \u001b[38;5;124mr\u001b[39m\u001b[38;5;124m'\u001b[39m\u001b[38;5;124mgetMe\u001b[39m\u001b[38;5;124m'\u001b[39m\n\u001b[1;32m--> 196\u001b[0m     \u001b[38;5;28;01mreturn\u001b[39;00m _make_request(token, method_url)\n",
      "File \u001b[1;32m~\\anaconda3\\Lib\\site-packages\\telebot\\apihelper.py:80\u001b[0m, in \u001b[0;36m_make_request\u001b[1;34m(token, method_name, method, params, files)\u001b[0m\n\u001b[0;32m     70\u001b[0m \u001b[38;5;250m\u001b[39m\u001b[38;5;124;03m\"\"\"\u001b[39;00m\n\u001b[0;32m     71\u001b[0m \u001b[38;5;124;03mMakes a request to the Telegram API.\u001b[39;00m\n\u001b[0;32m     72\u001b[0m \u001b[38;5;124;03m:param token: The bot's API token. (Created with @BotFather)\u001b[39;00m\n\u001b[1;32m   (...)\u001b[0m\n\u001b[0;32m     77\u001b[0m \u001b[38;5;124;03m:return: The result parsed to a JSON dictionary.\u001b[39;00m\n\u001b[0;32m     78\u001b[0m \u001b[38;5;124;03m\"\"\"\u001b[39;00m\n\u001b[0;32m     79\u001b[0m \u001b[38;5;28;01mif\u001b[39;00m \u001b[38;5;129;01mnot\u001b[39;00m token:\n\u001b[1;32m---> 80\u001b[0m     \u001b[38;5;28;01mraise\u001b[39;00m \u001b[38;5;167;01mException\u001b[39;00m(\u001b[38;5;124m'\u001b[39m\u001b[38;5;124mBot token is not defined\u001b[39m\u001b[38;5;124m'\u001b[39m)\n\u001b[0;32m     81\u001b[0m \u001b[38;5;28;01mif\u001b[39;00m API_URL:\n\u001b[0;32m     82\u001b[0m     \u001b[38;5;66;03m# noinspection PyUnresolvedReferences\u001b[39;00m\n\u001b[0;32m     83\u001b[0m     request_url \u001b[38;5;241m=\u001b[39m API_URL\u001b[38;5;241m.\u001b[39mformat(token, method_name)\n",
      "\u001b[1;31mException\u001b[0m: Bot token is not defined"
     ]
    }
   ],
   "source": [
    "bot.polling()"
   ]
  }
 ],
 "metadata": {
  "kernelspec": {
   "display_name": "Python 3 (ipykernel)",
   "language": "python",
   "name": "python3"
  },
  "language_info": {
   "codemirror_mode": {
    "name": "ipython",
    "version": 3
   },
   "file_extension": ".py",
   "mimetype": "text/x-python",
   "name": "python",
   "nbconvert_exporter": "python",
   "pygments_lexer": "ipython3",
   "version": "3.11.4"
  }
 },
 "nbformat": 4,
 "nbformat_minor": 5
}
